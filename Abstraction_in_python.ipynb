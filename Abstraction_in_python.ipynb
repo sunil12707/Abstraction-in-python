{
  "cells": [
    {
      "cell_type": "code",
      "execution_count": null,
      "id": "40546cfb-c010-462b-84d2-8f751303e079",
      "metadata": {
        "id": "40546cfb-c010-462b-84d2-8f751303e079"
      },
      "outputs": [],
      "source": [
        "import abc\n",
        "class AstraBytes:\n",
        "\n",
        "    @abc.abstractmethod\n",
        "    def students_detials(self):\n",
        "        pass\n",
        "\n",
        "    @abc.abstractmethod\n",
        "    def student_assignemnt(self):\n",
        "        pass\n",
        "\n",
        "    @abc.abstractmethod\n",
        "    def student_marks(self):\n",
        "        pass"
      ]
    },
    {
      "cell_type": "code",
      "execution_count": null,
      "id": "9013b08c-7341-45aa-89bd-35a09e6dc3ad",
      "metadata": {
        "id": "9013b08c-7341-45aa-89bd-35a09e6dc3ad"
      },
      "outputs": [],
      "source": [
        "class student_detils(AstraBytes):\n",
        "\n",
        "    def students_detials(self):\n",
        "        return \"this is a method for taking students details\"\n",
        "\n",
        "    def student_assignemnt(self):\n",
        "        return \"this is a meth for assing details for a perticualt student\""
      ]
    },
    {
      "cell_type": "code",
      "execution_count": null,
      "id": "28533a52-fc10-4a0a-b7ef-b579af429338",
      "metadata": {
        "id": "28533a52-fc10-4a0a-b7ef-b579af429338"
      },
      "outputs": [],
      "source": [
        "class data_science_maters(AstraBytes):\n",
        "\n",
        "    def students_detials(self):\n",
        "        return \"this will return a student details for data science masters \"\n",
        "\n",
        "    def student_assignemnt(self):\n",
        "        return \"this will give you a studnt assignment detaild for data science masters \""
      ]
    },
    {
      "cell_type": "code",
      "execution_count": null,
      "id": "8ee48a80-6f32-42c4-a32f-bdf6d743c971",
      "metadata": {
        "id": "8ee48a80-6f32-42c4-a32f-bdf6d743c971",
        "outputId": "e8ba3db4-f0c2-4055-f6b9-565c1a37c975"
      },
      "outputs": [
        {
          "data": {
            "text/plain": [
              "'this will return a student details for data science masters '"
            ]
          },
          "execution_count": 17,
          "metadata": {},
          "output_type": "execute_result"
        }
      ],
      "source": [
        "dsm = data_science_maters()\n",
        "dsm.students_detials()"
      ]
    },
    {
      "cell_type": "code",
      "execution_count": null,
      "id": "455b7a49-26a5-4b0c-be88-6e85963f2e0d",
      "metadata": {
        "id": "455b7a49-26a5-4b0c-be88-6e85963f2e0d",
        "outputId": "820c4f4e-33c3-4501-b28c-8e201e1d7f9b"
      },
      "outputs": [
        {
          "data": {
            "text/plain": [
              "'this is a meth for taking students details'"
            ]
          },
          "execution_count": 18,
          "metadata": {},
          "output_type": "execute_result"
        }
      ],
      "source": [
        "sd= student_detils()\n",
        "sd.students_detials()"
      ]
    },
    {
      "cell_type": "code",
      "source": [],
      "metadata": {
        "id": "1mbY_LS-lrIi"
      },
      "id": "1mbY_LS-lrIi",
      "execution_count": null,
      "outputs": []
    },
    {
      "cell_type": "markdown",
      "source": [
        "**Abstraction is a fundamental concept in object-oriented programming (OOP) that allows you to hide complex implementation details and show only the essential features of an object. It focuses on what an object does rather than how it does it.**"
      ],
      "metadata": {
        "id": "LJygEuxQltqP"
      },
      "id": "LJygEuxQltqP"
    },
    {
      "cell_type": "markdown",
      "source": [
        "# In Python, abstraction can be achieved through the use of classes and interfaces. Here's how abstraction works in Python:"
      ],
      "metadata": {
        "id": "csSHhUXyl5U4"
      },
      "id": "csSHhUXyl5U4"
    },
    {
      "cell_type": "markdown",
      "source": [
        "**Classes: Classes are used to define abstract data types. They encapsulate data for the object and the methods that operate on the data. By defining classes, you can abstract away the implementation details and expose only the necessary functionality to the outside world.**"
      ],
      "metadata": {
        "id": "QHp8uCNlmABY"
      },
      "id": "QHp8uCNlmABY"
    },
    {
      "cell_type": "code",
      "source": [
        "class Animal:\n",
        "    def __init__(self, name):\n",
        "        self.name = name\n",
        "\n",
        "    def make_sound(self):\n",
        "        pass  # Abstract method\n",
        "\n",
        "class Dog(Animal):\n",
        "    def make_sound(self):\n",
        "        return \"Woof!\"\n",
        "\n",
        "class Cat(Animal):\n",
        "    def make_sound(self):\n",
        "        return \"Meow!\"\n",
        "\n",
        "# Using abstraction\n",
        "dog = Dog(\"Buddy\")\n",
        "cat = Cat(\"Whiskers\")\n",
        "\n",
        "print(dog.make_sound())  # Output: Woof!\n",
        "print(cat.make_sound())  # Output: Meow!\n"
      ],
      "metadata": {
        "colab": {
          "base_uri": "https://localhost:8080/"
        },
        "id": "AqkfbIlNlrLH",
        "outputId": "659edf7d-3ac9-4b8c-e4fc-69824880583e"
      },
      "id": "AqkfbIlNlrLH",
      "execution_count": 1,
      "outputs": [
        {
          "output_type": "stream",
          "name": "stdout",
          "text": [
            "Woof!\n",
            "Meow!\n"
          ]
        }
      ]
    },
    {
      "cell_type": "code",
      "source": [],
      "metadata": {
        "id": "HRbR6S-XlrNs"
      },
      "id": "HRbR6S-XlrNs",
      "execution_count": null,
      "outputs": []
    },
    {
      "cell_type": "markdown",
      "source": [
        "**Abstract Base Classes (ABCs): Python provides the abc module for defining abstract base classes. Abstract base classes are classes that contain one or more abstract methods, which must be implemented by subclasses.**"
      ],
      "metadata": {
        "id": "u6ZXsPUSmJXn"
      },
      "id": "u6ZXsPUSmJXn"
    },
    {
      "cell_type": "code",
      "source": [
        "from abc import ABC, abstractmethod\n",
        "\n",
        "class Animal(ABC):\n",
        "    def __init__(self, name):\n",
        "        self.name = name\n",
        "\n",
        "    @abstractmethod\n",
        "    def make_sound(self):\n",
        "        pass  # Abstract method\n",
        "\n",
        "class Dog(Animal):\n",
        "    def make_sound(self):\n",
        "        return \"Woof!\"\n",
        "\n",
        "class Cat(Animal):\n",
        "    def make_sound(self):\n",
        "        return \"Meow!\"\n",
        "\n",
        "# Using abstraction\n",
        "dog = Dog(\"Buddy\")\n",
        "cat = Cat(\"Whiskers\")\n",
        "\n",
        "print(dog.make_sound())  # Output: Woof!\n",
        "print(cat.make_sound())  # Output: Meow!\n"
      ],
      "metadata": {
        "colab": {
          "base_uri": "https://localhost:8080/"
        },
        "id": "VZgVcBTdlrQY",
        "outputId": "54548c6d-f4d4-4ae6-b78c-51930e3733d1"
      },
      "id": "VZgVcBTdlrQY",
      "execution_count": 2,
      "outputs": [
        {
          "output_type": "stream",
          "name": "stdout",
          "text": [
            "Woof!\n",
            "Meow!\n"
          ]
        }
      ]
    },
    {
      "cell_type": "code",
      "source": [],
      "metadata": {
        "id": "m9nEmNsnlrTz"
      },
      "id": "m9nEmNsnlrTz",
      "execution_count": null,
      "outputs": []
    }
  ],
  "metadata": {
    "kernelspec": {
      "display_name": "Python 3 (ipykernel)",
      "language": "python",
      "name": "python3"
    },
    "language_info": {
      "codemirror_mode": {
        "name": "ipython",
        "version": 3
      },
      "file_extension": ".py",
      "mimetype": "text/x-python",
      "name": "python",
      "nbconvert_exporter": "python",
      "pygments_lexer": "ipython3",
      "version": "3.10.8"
    },
    "colab": {
      "provenance": []
    }
  },
  "nbformat": 4,
  "nbformat_minor": 5
}